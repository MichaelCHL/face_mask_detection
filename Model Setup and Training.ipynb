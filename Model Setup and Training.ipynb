{
 "cells": [
  {
   "cell_type": "code",
   "execution_count": 5,
   "metadata": {},
   "outputs": [],
   "source": [
    "import os\n",
    "import shutil\n",
    "import glob"
   ]
  },
  {
   "cell_type": "code",
   "execution_count": null,
   "metadata": {},
   "outputs": [],
   "source": [
    "# Split data\n",
    "def split_data(SOURCE_DIR, TRAINING_DIR, TEST_DIR, SPLIT_SIZE):\n",
    "    contents = os.listdir(SOURCE_DIR)\n",
    "    total_pic_num = len(contents) / 2\n",
    "    for content in contents:\n",
    "        if content.endswith('.jpg'):\n",
    "            \n",
    "        "
   ]
  },
  {
   "cell_type": "code",
   "execution_count": 4,
   "metadata": {},
   "outputs": [],
   "source": [
    "# copy captured photos to train/test folders\n",
    "MASK_SOURCE_DIR = '/Users/michaelwork/Desktop/Project/Face_Mask_Detection/face_mask_detection/Data/images/Mask'\n",
    "NO_MASK_SOURCE_DIR = '/Users/michaelwork/Desktop/Project/Face_Mask_Detection/face_mask_detection/Data/images/No_Mask'\n",
    "NOT_PROPERLY_SOURCE_DIR = '/Users/michaelwork/Desktop/Project/Face_Mask_Detection/face_mask_detection/Data/images/Not_Wear_Properly'\n",
    "\n",
    "TRAINING_DIR = '/Users/michaelwork/Desktop/Project/Face_Mask_Detection/face_mask_detection/workspace/training_demo/images/train'\n",
    "TEST_DIR = '/Users/michaelwork/Desktop/Project/Face_Mask_Detection/face_mask_detection/workspace/training_demo/images/test'\n"
   ]
  }
 ],
 "metadata": {
  "kernelspec": {
   "display_name": "Python 3.8.0 ('object-detection')",
   "language": "python",
   "name": "python3"
  },
  "language_info": {
   "codemirror_mode": {
    "name": "ipython",
    "version": 3
   },
   "file_extension": ".py",
   "mimetype": "text/x-python",
   "name": "python",
   "nbconvert_exporter": "python",
   "pygments_lexer": "ipython3",
   "version": "3.8.0"
  },
  "orig_nbformat": 4,
  "vscode": {
   "interpreter": {
    "hash": "f48fe77c96d25382708f938305ef6b67b7a52141330303ce68a49492b0f4af52"
   }
  }
 },
 "nbformat": 4,
 "nbformat_minor": 2
}
