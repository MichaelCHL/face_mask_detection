{
 "cells": [
  {
   "attachments": {},
   "cell_type": "markdown",
   "metadata": {},
   "source": [
    "# Library"
   ]
  },
  {
   "cell_type": "code",
   "execution_count": 14,
   "metadata": {},
   "outputs": [],
   "source": [
    "import os\n",
    "import glob\n",
    "import random\n",
    "import fnmatch\n",
    "\n",
    "from shutil import copy"
   ]
  },
  {
   "attachments": {},
   "cell_type": "markdown",
   "metadata": {},
   "source": [
    "# Function"
   ]
  },
  {
   "cell_type": "code",
   "execution_count": 36,
   "metadata": {},
   "outputs": [],
   "source": [
    "# Split data\n",
    "def split_data(SOURCE_DIR, TRAINING_DIR, TEST_DIR, SPLIT_SIZE):\n",
    "    contents = os.listdir(SOURCE_DIR)\n",
    "    content_xml = [content for content in contents if content.endswith('.xml')]\n",
    "    content_jpg = [content for content in contents if content.endswith('.jpg')]\n",
    "    total_pic_num = len(content_jpg)\n",
    "    \n",
    "    training_jpg = random.sample(content_jpg, int(SPLIT_SIZE*total_pic_num))\n",
    "    training_jpg_name = [file.split('.')[0] for file in training_jpg]\n",
    "    training_xml = [xml for xml in content_xml if xml.split('.')[0] in training_jpg_name]\n",
    "    test_jpg = [img for img in content_jpg if img.split('.')[0] not in training_jpg_name]\n",
    "    test_xml = [xml for xml in content_xml if xml.split('.')[0] not in training_jpg_name]\n",
    "\n",
    "    for img, xml in zip(training_jpg, training_xml):\n",
    "        pic_dir = os.path.join(SOURCE_DIR, img)\n",
    "        xml_dir = os.path.join(SOURCE_DIR, xml)\n",
    "        copy(pic_dir, TRAINING_DIR)\n",
    "        copy(xml_dir, TRAINING_DIR)\n",
    "    \n",
    "    for img, xml in zip(test_jpg, test_xml):\n",
    "        pic_dir = os.path.join(SOURCE_DIR, img)\n",
    "        xml_dir = os.path.join(SOURCE_DIR, xml)\n",
    "        copy(pic_dir, TEST_DIR)\n",
    "        copy(xml_dir, TEST_DIR)\n"
   ]
  },
  {
   "attachments": {},
   "cell_type": "markdown",
   "metadata": {},
   "source": [
    "# Path"
   ]
  },
  {
   "cell_type": "code",
   "execution_count": 37,
   "metadata": {},
   "outputs": [],
   "source": [
    "images_path = os.path.join('Data', 'images')\n",
    "\n",
    "mask_path = os.path.join(images_path, 'Mask')\n",
    "no_mask_path = os.path.join(images_path, 'No_Mask')\n",
    "not_wear_prop_path =  os.path.join(images_path, 'Not_Wear_Properly')\n",
    "\n",
    "training_demo_images = os.path.join('workspace', 'training_demo', 'images')\n",
    "\n",
    "train_path = os.path.join(training_demo_images, 'train')\n",
    "test_path = os.path.join(training_demo_images, 'test')\n"
   ]
  },
  {
   "attachments": {},
   "cell_type": "markdown",
   "metadata": {},
   "source": [
    "# Split Data"
   ]
  },
  {
   "cell_type": "code",
   "execution_count": 38,
   "metadata": {},
   "outputs": [],
   "source": [
    "split_data(mask_path, train_path, test_path, SPLIT_SIZE=0.8)\n",
    "split_data(no_mask_path, train_path, test_path, SPLIT_SIZE=0.8)\n",
    "split_data(not_wear_prop_path, train_path, test_path, SPLIT_SIZE=0.8)"
   ]
  },
  {
   "cell_type": "markdown",
   "metadata": {},
   "source": [
    "# Convert xml to record "
   ]
  },
  {
   "cell_type": "code",
   "execution_count": 51,
   "metadata": {},
   "outputs": [
    {
     "name": "stdout",
     "output_type": "stream",
     "text": [
      "Traceback (most recent call last):\n",
      "  File \"generate_tfrecord.py\", line 61, in <module>\n",
      "    label_map = label_map_util.load_labelmap(args.labels_path)\n",
      "  File \"/Users/michaelwork/opt/anaconda3/envs/object-detection/lib/python3.8/site-packages/object_detection/utils/label_map_util.py\", line 133, in load_labelmap\n",
      "    label_map_string = fid.read()\n",
      "  File \"/Users/michaelwork/opt/anaconda3/envs/object-detection/lib/python3.8/site-packages/tensorflow/python/lib/io/file_io.py\", line 116, in read\n",
      "    self._preread_check()\n",
      "  File \"/Users/michaelwork/opt/anaconda3/envs/object-detection/lib/python3.8/site-packages/tensorflow/python/lib/io/file_io.py\", line 77, in _preread_check\n",
      "    self._read_buf = _pywrap_file_io.BufferedInputStream(\n",
      "tensorflow.python.framework.errors_impl.NotFoundError: workspace/training_demo/annotations/label_map.pbtxt; No such file or directory\n",
      "Traceback (most recent call last):\n",
      "  File \"generate_tfrecord.py\", line 61, in <module>\n",
      "    label_map = label_map_util.load_labelmap(args.labels_path)\n",
      "  File \"/Users/michaelwork/opt/anaconda3/envs/object-detection/lib/python3.8/site-packages/object_detection/utils/label_map_util.py\", line 133, in load_labelmap\n",
      "    label_map_string = fid.read()\n",
      "  File \"/Users/michaelwork/opt/anaconda3/envs/object-detection/lib/python3.8/site-packages/tensorflow/python/lib/io/file_io.py\", line 116, in read\n",
      "    self._preread_check()\n",
      "  File \"/Users/michaelwork/opt/anaconda3/envs/object-detection/lib/python3.8/site-packages/tensorflow/python/lib/io/file_io.py\", line 77, in _preread_check\n",
      "    self._read_buf = _pywrap_file_io.BufferedInputStream(\n",
      "tensorflow.python.framework.errors_impl.NotFoundError: workspace/training_demo/annotations/label_map.pbtxt; No such file or directory\n"
     ]
    }
   ],
   "source": [
    "# run below command in terminal\n",
    "# command_train = python generate_tfrecord.py -x /Users/michaelwork/Desktop/Project/Face_Mask_Detection/face_mask_detection/workspace/training_demo/images/train -l /Users/michaelwork/Desktop/Project/Face_Mask_Detection/face_mask_detection/workspace/training_demo/annotations/label_map.pbtxt -o /Users/michaelwork/Desktop/Project/Face_Mask_Detection/face_mask_detection/workspace/training_demo/annotations/train.record\n",
    "# command_test = python generate_tfrecord.py -x /Users/michaelwork/Desktop/Project/Face_Mask_Detection/face_mask_detection/workspace/training_demo/images/test -l /Users/michaelwork/Desktop/Project/Face_Mask_Detection/face_mask_detection/workspace/training_demo/annotations/label_map.pbtxt -o /Users/michaelwork/Desktop/Project/Face_Mask_Detection/face_mask_detection/workspace/training_demo/annotations/test.record\n",
    "\n",
    "# -------------------\n",
    "# command_test = 'python generate_tfrecord.py -x {}/test -l {}/label_map.pbtxt -o {}/test.record'.format(train_path, anno_path, anno_path)\n",
    "\n",
    "# !{command_train}\n",
    "# !{command_test}"
   ]
  },
  {
   "attachments": {},
   "cell_type": "markdown",
   "metadata": {},
   "source": [
    "# Download and Save Pre-trained Model"
   ]
  },
  {
   "cell_type": "code",
   "execution_count": 11,
   "metadata": {},
   "outputs": [
    {
     "name": "stdout",
     "output_type": "stream",
     "text": [
      "  % Total    % Received % Xferd  Average Speed   Time    Time     Time  Current\n",
      "                                 Dload  Upload   Total   Spent    Left  Speed\n",
      "100  233M  100  233M    0     0   233k      0  0:17:04  0:17:04 --:--:--  737k  0:00:42  1:10:24 371111      0  1:11:49  0:00:52  1:10:57 517371:11:44  0:00:55  1:10:49 57872  1:23:20  0:01:22  1:21:58 49112 0  52403      0  1:17:51  0:01:38  1:16:13  124k1:24:28  0:02:00  1:22:28 29268      0  1:25:54  0:02:09  1:23:45 25220:00  1:05:21 588131:06:42 188906  0:03:35  1:14:01 11087:40  1:14:59 21748074      0  1:30:31  0:04:18  1:26:13     01:26:27   5095976      0  0:53:42  0:05:01  0:48:41  542k6:14  0:05:20  0:40:54  222k 0:05:22  0:40:35  196k86869      0  0:46:58  0:06:01  0:40:57  150k 0   126k      0  0:31:31  0:07:35  0:23:56  783k  0:22:41  572k1k4:29  125k    0  0:23:31  0:09:01  0:14:30 83667    0  0:23:35  0:09:14  0:14:21  239k  731k0:10:28  0:11:04  917k 187k      0  0:21:15  0:10:31  0:10:44  839k      0  0:20:34  0:10:41  0:09:53  479k0:11:24  0:09:29  132k:07:11  424k  0   210k      0  0:18:54  0:14:22  0:04:32  611k  0:15:08  0:03:11  364k 220k      0  0:18:02  0:15:23  0:02:39  523k46  0:15:37  0:02:09  344k7:48  0:16:39  0:01:09  703k7:01  0:00:09  630k\n",
      "mv: rename ssd_resnet50_v1_fpn_640x640_coco17_tpu-8 to /workspace/training_demo/pre-trained-models/: No such file or directory\n"
     ]
    }
   ],
   "source": [
    "!curl -o ssd_resnet50_v1_fpn_640x640_coco17_tpu-8.tar.gz http://download.tensorflow.org/models/object_detection/tf2/20200711/ssd_resnet50_v1_fpn_640x640_coco17_tpu-8.tar.gz\n",
    "!tar -xf ssd_resnet50_v1_fpn_640x640_coco17_tpu-8.tar.gz\n",
    "!mv ssd_resnet50_v1_fpn_640x640_coco17_tpu-8 ./workspace/training_demo/pre-trained-models/"
   ]
  },
  {
   "attachments": {},
   "cell_type": "markdown",
   "metadata": {},
   "source": [
    "# Copy Model Configuration"
   ]
  },
  {
   "cell_type": "code",
   "execution_count": 29,
   "metadata": {},
   "outputs": [],
   "source": [
    "pretrained_model_name = 'ssd_resnet50_v1_fpn_640x640_coco17_tpu-8'\n",
    "custom_model_name = 'my_ssd_resnet50_v1_fpn'\n",
    "pretrain_model_path = './workspace/training_demo/pre-trained-models/{}/pipeline.config'.format(pretrained_model_name)\n",
    "custom_model_path = os.path.join('.', 'workspace', 'training_demo', 'models', custom_model_name)\n",
    "os.makedirs(custom_model_path)\n",
    "\n",
    "!cp {pretrain_model_path} {os.path.join(custom_model_path, 'pipeline.config')}"
   ]
  },
  {
   "attachments": {},
   "cell_type": "markdown",
   "metadata": {},
   "source": [
    "# Model Training"
   ]
  },
  {
   "cell_type": "code",
   "execution_count": 22,
   "metadata": {},
   "outputs": [],
   "source": [
    "# copy script\n",
    "script_og_path = os.path.join('.','models', 'research', 'object_detection','model_main_tf2.py')\n",
    "script_des_path = os.path.join('.','workplace', 'training_demo')\n",
    "\n",
    "!cp {script_og_path} {script_des_path}"
   ]
  },
  {
   "cell_type": "code",
   "execution_count": null,
   "metadata": {},
   "outputs": [],
   "source": [
    "os.chdir(script_des_path)\n",
    "\n",
    "command = \"python model_main_tf2.py --model_dir={} --pipeline_config_path={} --num_train_steps=2000\".format(custom_model_path, \n",
    "                                                                                                            os.path.join(custom_config_path, 'pipelineconfig'))\n",
    "!command"
   ]
  },
  {
   "attachments": {},
   "cell_type": "markdown",
   "metadata": {},
   "source": [
    "# Model Evaluation"
   ]
  },
  {
   "cell_type": "code",
   "execution_count": null,
   "metadata": {},
   "outputs": [],
   "source": [
    "command = \"python model_main_tf2.py --model_dir={} --pipeline_config_path={} --checkpoint_dir=models/my_ssd_resnet50_v1_fpn\".format(custom_model_path, \n",
    "                                                                                                            os.path.join(custom_config_path, 'pipelineconfig'))\n",
    "\n",
    "!command"
   ]
  }
 ],
 "metadata": {
  "kernelspec": {
   "display_name": "Python 3.8.0 ('object-detection')",
   "language": "python",
   "name": "python3"
  },
  "language_info": {
   "codemirror_mode": {
    "name": "ipython",
    "version": 3
   },
   "file_extension": ".py",
   "mimetype": "text/x-python",
   "name": "python",
   "nbconvert_exporter": "python",
   "pygments_lexer": "ipython3",
   "version": "3.8.0"
  },
  "orig_nbformat": 4,
  "vscode": {
   "interpreter": {
    "hash": "f48fe77c96d25382708f938305ef6b67b7a52141330303ce68a49492b0f4af52"
   }
  }
 },
 "nbformat": 4,
 "nbformat_minor": 2
}
