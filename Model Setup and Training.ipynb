{
 "cells": [
  {
   "attachments": {},
   "cell_type": "markdown",
   "metadata": {},
   "source": [
    "# Library"
   ]
  },
  {
   "cell_type": "code",
   "execution_count": null,
   "metadata": {},
   "outputs": [],
   "source": [
    "import os\n",
    "import glob\n",
    "import random\n",
    "import fnmatch\n",
    "\n",
    "from shutil import copyfile"
   ]
  },
  {
   "attachments": {},
   "cell_type": "markdown",
   "metadata": {},
   "source": [
    "# Function"
   ]
  },
  {
   "cell_type": "code",
   "execution_count": null,
   "metadata": {},
   "outputs": [],
   "source": [
    "# Split data\n",
    "def split_data(SOURCE_DIR, TRAINING_DIR, TEST_DIR, SPLIT_SIZE):\n",
    "    contents = os.listdir(SOURCE_DIR)\n",
    "    content_xml = [content for content in contents if content.endswith('.xml')]\n",
    "    content_jpg = [content for content in contents if content.endswith('.jpg')]\n",
    "    total_pic_num = len(content_jpg)\n",
    "    \n",
    "    training_jpg = random.sample(content_jpg, int(SPLIT_SIZE*total_pic_num))\n",
    "    training_xml = [xml for xml in content_xml if xml.split('.')[0] in training_jpg]\n",
    "    test_jpg = [img for img in content_jpg if img not in training_jpg]\n",
    "    test_xml = [xml for xml in content_xml if xml not in training_xml]\n",
    "\n",
    "    for img, xml in zip(training_jpg, training_xml):\n",
    "        pic_dir = os.path.join(SOURCE_DIR, img)\n",
    "        xml_dir = os.path.join(SOURCE_DIR, xml)\n",
    "        copyfile(pic_dir, TRAINING_DIR)\n",
    "        copyfile(xml_dir, TRAINING_DIR)\n",
    "    \n",
    "    for img, xml in zip(test_jpg, test_xml):\n",
    "        pic_dir = os.path.join(SOURCE_DIR, img)\n",
    "        xml_dir = os.path.join(SOURCE_DIR, xml)\n",
    "        copyfile(pic_dir, TEST_DIR)\n",
    "        copyfile(xml_dir, TEST_DIR)\n",
    "    \n",
    "\n",
    "        "
   ]
  },
  {
   "attachments": {},
   "cell_type": "markdown",
   "metadata": {},
   "source": [
    "# Path"
   ]
  },
  {
   "cell_type": "code",
   "execution_count": 4,
   "metadata": {},
   "outputs": [],
   "source": [
    "MASK_SOURCE_DIR = '/Users/michaelwork/Desktop/Project/Face_Mask_Detection/face_mask_detection/Data/images/Mask'\n",
    "NO_MASK_SOURCE_DIR = '/Users/michaelwork/Desktop/Project/Face_Mask_Detection/face_mask_detection/Data/images/No_Mask'\n",
    "NOT_PROPERLY_SOURCE_DIR = '/Users/michaelwork/Desktop/Project/Face_Mask_Detection/face_mask_detection/Data/images/Not_Wear_Properly'\n",
    "\n",
    "TRAINING_DIR = '/Users/michaelwork/Desktop/Project/Face_Mask_Detection/face_mask_detection/workspace/training_demo/images/train'\n",
    "TEST_DIR = '/Users/michaelwork/Desktop/Project/Face_Mask_Detection/face_mask_detection/workspace/training_demo/images/test'"
   ]
  },
  {
   "attachments": {},
   "cell_type": "markdown",
   "metadata": {},
   "source": [
    "# Split Data"
   ]
  },
  {
   "cell_type": "code",
   "execution_count": null,
   "metadata": {},
   "outputs": [],
   "source": [
    "split_data(MASK_SOURCE_DIR, TRAINING_DIR, TEST_DIR, SPLIT_SIZE=0.8)\n",
    "split_data(NO_MASK_SOURCE_DIR, TRAINING_DIR, TEST_DIR, SPLIT_SIZE=0.8)\n",
    "split_data(NOT_PROPERLY_SOURCE_DIR, TRAINING_DIR, TEST_DIR, SPLIT_SIZE=0.8)"
   ]
  },
  {
   "attachments": {},
   "cell_type": "markdown",
   "metadata": {},
   "source": [
    "# Download and Save Pre-trained Model"
   ]
  },
  {
   "cell_type": "code",
   "execution_count": null,
   "metadata": {},
   "outputs": [],
   "source": [
    "!wget http://download.tensorflow.org/models/object_detection/tf2/20200711/ssd_resnet50_v1_fpn_640x640_coco17_tpu-8.tar.gz\n",
    "!tar -xf ssd_resnet50_v1_fpn_640x640_coco17_tpu-8.tar.gz\n",
    "!mv ssd_resnet50_v1_fpn_640x640_coco17_tpu-8/checkpoint models/research/object_detection/test_data/"
   ]
  },
  {
   "cell_type": "code",
   "execution_count": null,
   "metadata": {},
   "outputs": [],
   "source": []
  }
 ],
 "metadata": {
  "kernelspec": {
   "display_name": "Python 3.8.0 ('object-detection')",
   "language": "python",
   "name": "python3"
  },
  "language_info": {
   "codemirror_mode": {
    "name": "ipython",
    "version": 3
   },
   "file_extension": ".py",
   "mimetype": "text/x-python",
   "name": "python",
   "nbconvert_exporter": "python",
   "pygments_lexer": "ipython3",
   "version": "3.8.0"
  },
  "orig_nbformat": 4,
  "vscode": {
   "interpreter": {
    "hash": "f48fe77c96d25382708f938305ef6b67b7a52141330303ce68a49492b0f4af52"
   }
  }
 },
 "nbformat": 4,
 "nbformat_minor": 2
}
