{
 "cells": [
  {
   "attachments": {},
   "cell_type": "markdown",
   "metadata": {},
   "source": [
    "# Library"
   ]
  },
  {
   "cell_type": "code",
   "execution_count": 14,
   "metadata": {},
   "outputs": [],
   "source": [
    "import os\n",
    "import glob\n",
    "import random\n",
    "import fnmatch\n",
    "\n",
    "from shutil import copy"
   ]
  },
  {
   "attachments": {},
   "cell_type": "markdown",
   "metadata": {},
   "source": [
    "# Function"
   ]
  },
  {
   "cell_type": "code",
   "execution_count": 36,
   "metadata": {},
   "outputs": [],
   "source": [
    "# Split data\n",
    "def split_data(SOURCE_DIR, TRAINING_DIR, TEST_DIR, SPLIT_SIZE):\n",
    "    contents = os.listdir(SOURCE_DIR)\n",
    "    content_xml = [content for content in contents if content.endswith('.xml')]\n",
    "    content_jpg = [content for content in contents if content.endswith('.jpg')]\n",
    "    total_pic_num = len(content_jpg)\n",
    "    \n",
    "    training_jpg = random.sample(content_jpg, int(SPLIT_SIZE*total_pic_num))\n",
    "    training_jpg_name = [file.split('.')[0] for file in training_jpg]\n",
    "    training_xml = [xml for xml in content_xml if xml.split('.')[0] in training_jpg_name]\n",
    "    test_jpg = [img for img in content_jpg if img.split('.')[0] not in training_jpg_name]\n",
    "    test_xml = [xml for xml in content_xml if xml.split('.')[0] not in training_jpg_name]\n",
    "\n",
    "    for img, xml in zip(training_jpg, training_xml):\n",
    "        pic_dir = os.path.join(SOURCE_DIR, img)\n",
    "        xml_dir = os.path.join(SOURCE_DIR, xml)\n",
    "        copy(pic_dir, TRAINING_DIR)\n",
    "        copy(xml_dir, TRAINING_DIR)\n",
    "    \n",
    "    for img, xml in zip(test_jpg, test_xml):\n",
    "        pic_dir = os.path.join(SOURCE_DIR, img)\n",
    "        xml_dir = os.path.join(SOURCE_DIR, xml)\n",
    "        copy(pic_dir, TEST_DIR)\n",
    "        copy(xml_dir, TEST_DIR)\n"
   ]
  },
  {
   "attachments": {},
   "cell_type": "markdown",
   "metadata": {},
   "source": [
    "# Path"
   ]
  },
  {
   "cell_type": "code",
   "execution_count": 37,
   "metadata": {},
   "outputs": [],
   "source": [
    "images_path = os.path.join('Data', 'images')\n",
    "\n",
    "mask_path = os.path.join(images_path, 'Mask')\n",
    "no_mask_path = os.path.join(images_path, 'No_Mask')\n",
    "not_wear_prop_path =  os.path.join(images_path, 'Not_Wear_Properly')\n",
    "\n",
    "training_demo_images = os.path.join('workspace', 'training_demo', 'images')\n",
    "\n",
    "train_path = os.path.join(training_demo_images, 'train')\n",
    "test_path = os.path.join(training_demo_images, 'test')\n"
   ]
  },
  {
   "attachments": {},
   "cell_type": "markdown",
   "metadata": {},
   "source": [
    "# Split Data"
   ]
  },
  {
   "cell_type": "code",
   "execution_count": 38,
   "metadata": {},
   "outputs": [],
   "source": [
    "split_data(mask_path, train_path, test_path, SPLIT_SIZE=0.8)\n",
    "split_data(no_mask_path, train_path, test_path, SPLIT_SIZE=0.8)\n",
    "split_data(not_wear_prop_path, train_path, test_path, SPLIT_SIZE=0.8)"
   ]
  },
  {
   "cell_type": "markdown",
   "metadata": {},
   "source": [
    "# Convert xml to record "
   ]
  },
  {
   "cell_type": "code",
   "execution_count": 51,
   "metadata": {},
   "outputs": [
    {
     "name": "stdout",
     "output_type": "stream",
     "text": [
      "Traceback (most recent call last):\n",
      "  File \"generate_tfrecord.py\", line 61, in <module>\n",
      "    label_map = label_map_util.load_labelmap(args.labels_path)\n",
      "  File \"/Users/michaelwork/opt/anaconda3/envs/object-detection/lib/python3.8/site-packages/object_detection/utils/label_map_util.py\", line 133, in load_labelmap\n",
      "    label_map_string = fid.read()\n",
      "  File \"/Users/michaelwork/opt/anaconda3/envs/object-detection/lib/python3.8/site-packages/tensorflow/python/lib/io/file_io.py\", line 116, in read\n",
      "    self._preread_check()\n",
      "  File \"/Users/michaelwork/opt/anaconda3/envs/object-detection/lib/python3.8/site-packages/tensorflow/python/lib/io/file_io.py\", line 77, in _preread_check\n",
      "    self._read_buf = _pywrap_file_io.BufferedInputStream(\n",
      "tensorflow.python.framework.errors_impl.NotFoundError: workspace/training_demo/annotations/label_map.pbtxt; No such file or directory\n",
      "Traceback (most recent call last):\n",
      "  File \"generate_tfrecord.py\", line 61, in <module>\n",
      "    label_map = label_map_util.load_labelmap(args.labels_path)\n",
      "  File \"/Users/michaelwork/opt/anaconda3/envs/object-detection/lib/python3.8/site-packages/object_detection/utils/label_map_util.py\", line 133, in load_labelmap\n",
      "    label_map_string = fid.read()\n",
      "  File \"/Users/michaelwork/opt/anaconda3/envs/object-detection/lib/python3.8/site-packages/tensorflow/python/lib/io/file_io.py\", line 116, in read\n",
      "    self._preread_check()\n",
      "  File \"/Users/michaelwork/opt/anaconda3/envs/object-detection/lib/python3.8/site-packages/tensorflow/python/lib/io/file_io.py\", line 77, in _preread_check\n",
      "    self._read_buf = _pywrap_file_io.BufferedInputStream(\n",
      "tensorflow.python.framework.errors_impl.NotFoundError: workspace/training_demo/annotations/label_map.pbtxt; No such file or directory\n"
     ]
    }
   ],
   "source": [
    "# run below command in terminal\n",
    "# command_train = python generate_tfrecord.py -x /Users/michaelwork/Desktop/Project/Face_Mask_Detection/face_mask_detection/workspace/training_demo/images/train -l /Users/michaelwork/Desktop/Project/Face_Mask_Detection/face_mask_detection/workspace/training_demo/annotations/label_map.pbtxt -o /Users/michaelwork/Desktop/Project/Face_Mask_Detection/face_mask_detection/workspace/training_demo/annotations/train.record\n",
    "# command_test = python generate_tfrecord.py -x /Users/michaelwork/Desktop/Project/Face_Mask_Detection/face_mask_detection/workspace/training_demo/images/test -l /Users/michaelwork/Desktop/Project/Face_Mask_Detection/face_mask_detection/workspace/training_demo/annotations/label_map.pbtxt -o /Users/michaelwork/Desktop/Project/Face_Mask_Detection/face_mask_detection/workspace/training_demo/annotations/test.record\n",
    "\n",
    "# -------------------\n",
    "# command_test = 'python generate_tfrecord.py -x {}/test -l {}/label_map.pbtxt -o {}/test.record'.format(train_path, anno_path, anno_path)\n",
    "\n",
    "# !{command_train}\n",
    "# !{command_test}"
   ]
  },
  {
   "attachments": {},
   "cell_type": "markdown",
   "metadata": {},
   "source": [
    "# Download and Save Pre-trained Model"
   ]
  },
  {
   "cell_type": "code",
   "execution_count": null,
   "metadata": {},
   "outputs": [],
   "source": [
    "!wget http://download.tensorflow.org/models/object_detection/tf2/20200711/ssd_resnet50_v1_fpn_640x640_coco17_tpu-8.tar.gz\n",
    "!tar -xf ssd_resnet50_v1_fpn_640x640_coco17_tpu-8.tar.gz\n",
    "!mv ssd_resnet50_v1_fpn_640x640_coco17_tpu-8 /workspace/training_demo/pre-trained-models/"
   ]
  },
  {
   "attachments": {},
   "cell_type": "markdown",
   "metadata": {},
   "source": [
    "# Copy Model Configuration"
   ]
  },
  {
   "cell_type": "code",
   "execution_count": null,
   "metadata": {},
   "outputs": [],
   "source": [
    "pretrained_model_name = 'ssd_resnet50_v1_fpn_640x640_coco17_tpu-8'\n",
    "custom_model_name = 'my_ssd_resnet50_v1_fpn'\n",
    "pretrain_model_path = os.path.join('workplace', 'training_demo', 'pre-trained-models', pretrained_model_name, 'pipeline.config')\n",
    "custom_model_path = os.path.join('workplace', 'training_demo', 'models', custom_model_name)\n",
    "\n",
    "!cp pretrain_model_path custom_model_path"
   ]
  },
  {
   "attachments": {},
   "cell_type": "markdown",
   "metadata": {},
   "source": [
    "# Model Training"
   ]
  },
  {
   "cell_type": "code",
   "execution_count": null,
   "metadata": {},
   "outputs": [],
   "source": [
    "# copy script\n",
    "script_og_path = os.path.join('models', 'research', 'object_detection','model_main_tf2.py')\n",
    "script_des_path = os.path.join('workplace', 'training_demo')\n",
    "\n",
    "!cp script_og_path script_des_path"
   ]
  },
  {
   "cell_type": "code",
   "execution_count": null,
   "metadata": {},
   "outputs": [],
   "source": [
    "os.chdir(script_des_path)\n",
    "\n",
    "command = \"python model_main_tf2.py --model_dir={} --pipeline_config_path={} --num_train_steps=2000\".format(custom_model_path, \n",
    "                                                                                                            os.path.join(custom_config_path, 'pipelineconfig'))\n",
    "!command"
   ]
  },
  {
   "attachments": {},
   "cell_type": "markdown",
   "metadata": {},
   "source": [
    "# Model Evaluation"
   ]
  },
  {
   "cell_type": "code",
   "execution_count": null,
   "metadata": {},
   "outputs": [],
   "source": [
    "command = \"python model_main_tf2.py --model_dir={} --pipeline_config_path={} --checkpoint_dir=models/my_ssd_resnet50_v1_fpn\".format(custom_model_path, \n",
    "                                                                                                            os.path.join(custom_config_path, 'pipelineconfig'))\n",
    "\n",
    "!command"
   ]
  }
 ],
 "metadata": {
  "kernelspec": {
   "display_name": "Python 3.8.0 ('object-detection')",
   "language": "python",
   "name": "python3"
  },
  "language_info": {
   "codemirror_mode": {
    "name": "ipython",
    "version": 3
   },
   "file_extension": ".py",
   "mimetype": "text/x-python",
   "name": "python",
   "nbconvert_exporter": "python",
   "pygments_lexer": "ipython3",
   "version": "3.8.0"
  },
  "orig_nbformat": 4,
  "vscode": {
   "interpreter": {
    "hash": "f48fe77c96d25382708f938305ef6b67b7a52141330303ce68a49492b0f4af52"
   }
  }
 },
 "nbformat": 4,
 "nbformat_minor": 2
}
