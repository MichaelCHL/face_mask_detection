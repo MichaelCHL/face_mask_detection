{
 "cells": [
  {
   "cell_type": "markdown",
   "id": "f2238036",
   "metadata": {},
   "source": [
    "# Library"
   ]
  },
  {
   "cell_type": "code",
   "execution_count": 1,
   "id": "3fe66583",
   "metadata": {},
   "outputs": [],
   "source": [
    "import cv2\n",
    "import os\n",
    "import time\n",
    "import matplotlib.pyplot as plt"
   ]
  },
  {
   "cell_type": "markdown",
   "id": "6d0354cb",
   "metadata": {},
   "source": [
    "# Image Labels"
   ]
  },
  {
   "cell_type": "code",
   "execution_count": 4,
   "id": "b14ca0e0",
   "metadata": {},
   "outputs": [],
   "source": [
    "labels = ['Mask', 'No_Mask', 'Not_Wear_Properly']"
   ]
  },
  {
   "cell_type": "markdown",
   "id": "bbc6922e",
   "metadata": {},
   "source": [
    "# Folder"
   ]
  },
  {
   "cell_type": "code",
   "execution_count": 5,
   "id": "ab72b7da",
   "metadata": {},
   "outputs": [],
   "source": [
    "IMAGES_PATH = os.path.join('Data', 'images')"
   ]
  },
  {
   "cell_type": "code",
   "execution_count": 6,
   "id": "974570fe",
   "metadata": {},
   "outputs": [],
   "source": [
    "#create folders for each type of images\n",
    "for label in labels:\n",
    "    path = os.path.join(IMAGES_PATH, label)\n",
    "    if not os.path.exists(path):\n",
    "        !mkdir {path}"
   ]
  },
  {
   "cell_type": "markdown",
   "id": "967ea918",
   "metadata": {},
   "source": [
    "# Testing External Cam"
   ]
  },
  {
   "cell_type": "code",
   "execution_count": 7,
   "id": "15cdc858",
   "metadata": {},
   "outputs": [
    {
     "name": "stdout",
     "output_type": "stream",
     "text": [
      "\n",
      "Find Camera on 0!\n",
      "\n",
      "Cannot find camera on 1\n",
      "\n",
      "Cannot find camera on 2\n",
      "\n",
      "Cannot find camera on 3\n",
      "\n",
      "Cannot find camera on 4\n"
     ]
    }
   ],
   "source": [
    "for i in range(5):\n",
    "    cap = cv2.VideoCapture(i)\n",
    "    ret, frame = cap.read()\n",
    "    if ret:\n",
    "        print('\\nFind Camera on {}!'.format(i))\n",
    "    else:\n",
    "        print(f'\\nCannot find camera on {i}')"
   ]
  },
  {
   "cell_type": "markdown",
   "id": "31288d5f",
   "metadata": {},
   "source": [
    "# Collect Data"
   ]
  },
  {
   "cell_type": "code",
   "execution_count": 10,
   "id": "5b8a0a3d",
   "metadata": {},
   "outputs": [
    {
     "name": "stdout",
     "output_type": "stream",
     "text": [
      "Collecting images for Mask...\n",
      "Collecting image 0\n",
      "Collecting image 1\n",
      "Collecting image 2\n",
      "Collecting image 3\n",
      "Collecting image 4\n",
      "Collecting images for No_Mask...\n",
      "Collecting image 0\n",
      "Collecting image 1\n",
      "Collecting image 2\n",
      "Collecting image 3\n",
      "Collecting image 4\n",
      "Collecting images for Not_Wear_Properly...\n",
      "Collecting image 0\n",
      "Collecting image 1\n",
      "Collecting image 2\n",
      "Collecting image 3\n",
      "Collecting image 4\n"
     ]
    }
   ],
   "source": [
    "number_imgs = 10\n",
    "\n",
    "for label in labels:\n",
    "    cap = cv2.VideoCapture(0) #Connect to our webcam or capture device\n",
    "    print('Collecting images for {}...'.format(label))\n",
    "    time.sleep(5)\n",
    "    for num in range(number_imgs):\n",
    "        print('Collecting image {}'.format(num))\n",
    "        ret, frame = cap.read()\n",
    "        name = os.path.join(IMAGES_PATH, label, label + '_' + '{}.jpg'.format(num))\n",
    "        cv2.imwrite(name, frame)\n",
    "        time.sleep(3)\n",
    "\n",
    "        if cv2.waitKey(1) & 0xFF == ord('q'):\n",
    "            break\n",
    "            \n",
    "print('\\nData Collection Completed!')\n",
    "cap.release()\n",
    "cv2.destroyAllWindows()"
   ]
  },
  {
   "cell_type": "code",
   "execution_count": null,
   "id": "9556c378",
   "metadata": {},
   "outputs": [],
   "source": []
  }
 ],
 "metadata": {
  "kernelspec": {
   "display_name": "Python 3 (ipykernel)",
   "language": "python",
   "name": "python3"
  },
  "language_info": {
   "codemirror_mode": {
    "name": "ipython",
    "version": 3
   },
   "file_extension": ".py",
   "mimetype": "text/x-python",
   "name": "python",
   "nbconvert_exporter": "python",
   "pygments_lexer": "ipython3",
   "version": "3.8.15"
  }
 },
 "nbformat": 4,
 "nbformat_minor": 5
}
