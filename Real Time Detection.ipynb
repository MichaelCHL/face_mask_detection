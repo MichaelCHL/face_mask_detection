{
 "cells": [
  {
   "attachments": {},
   "cell_type": "markdown",
   "metadata": {},
   "source": [
    "# Library"
   ]
  },
  {
   "cell_type": "code",
   "execution_count": 3,
   "metadata": {},
   "outputs": [],
   "source": [
    "import time\n",
    "import tensorflow as tf\n",
    "import os\n",
    "\n",
    "from object_detection.utils import label_map_util\n",
    "from object_detection.utils import config_util\n",
    "from object_detection.utils import visualization_utils as viz_utils\n",
    "from object_detection.builders import model_builder"
   ]
  },
  {
   "cell_type": "code",
   "execution_count": 5,
   "metadata": {},
   "outputs": [
    {
     "data": {
      "text/plain": [
       "'/Users/michaelwork/Desktop/Project/Face_Mask_Detection/face_mask_detection'"
      ]
     },
     "execution_count": 5,
     "metadata": {},
     "output_type": "execute_result"
    }
   ],
   "source": [
    "pwd"
   ]
  },
  {
   "attachments": {},
   "cell_type": "markdown",
   "metadata": {},
   "source": [
    "# Load Model"
   ]
  },
  {
   "cell_type": "code",
   "execution_count": 9,
   "metadata": {},
   "outputs": [
    {
     "name": "stdout",
     "output_type": "stream",
     "text": [
      "Loading model... "
     ]
    },
    {
     "ename": "ValueError",
     "evalue": "Unknown ssd feature_extractor: ssd_mobilenet_v2_fpn_keras",
     "output_type": "error",
     "traceback": [
      "\u001b[0;31m---------------------------------------------------------------------------\u001b[0m",
      "\u001b[0;31mValueError\u001b[0m                                Traceback (most recent call last)",
      "Cell \u001b[0;32mIn[9], line 14\u001b[0m\n\u001b[1;32m     12\u001b[0m configs \u001b[38;5;241m=\u001b[39m config_util\u001b[38;5;241m.\u001b[39mget_configs_from_pipeline_file(\u001b[38;5;124m'\u001b[39m\u001b[38;5;124m/Users/michaelwork/Desktop/Project/Face_Mask_Detection/face_mask_detection/workspace/training_demo/models/ssd_mobilenet_v2_fpnlite_320x320_coco17_tpu-8/ssd_mobilenet_v2_fpnlite_320x320_coco17_tpu-8.config\u001b[39m\u001b[38;5;124m'\u001b[39m)\n\u001b[1;32m     13\u001b[0m model_config \u001b[38;5;241m=\u001b[39m configs[\u001b[38;5;124m'\u001b[39m\u001b[38;5;124mmodel\u001b[39m\u001b[38;5;124m'\u001b[39m]\n\u001b[0;32m---> 14\u001b[0m detection_model \u001b[38;5;241m=\u001b[39m \u001b[43mmodel_builder\u001b[49m\u001b[38;5;241;43m.\u001b[39;49m\u001b[43mbuild\u001b[49m\u001b[43m(\u001b[49m\u001b[43mmodel_config\u001b[49m\u001b[38;5;241;43m=\u001b[39;49m\u001b[43mmodel_config\u001b[49m\u001b[43m,\u001b[49m\u001b[43m \u001b[49m\u001b[43mis_training\u001b[49m\u001b[38;5;241;43m=\u001b[39;49m\u001b[38;5;28;43;01mFalse\u001b[39;49;00m\u001b[43m)\u001b[49m\n\u001b[1;32m     16\u001b[0m \u001b[38;5;66;03m# Restore checkpoint\u001b[39;00m\n\u001b[1;32m     17\u001b[0m ckpt \u001b[38;5;241m=\u001b[39m tf\u001b[38;5;241m.\u001b[39mcompat\u001b[38;5;241m.\u001b[39mv2\u001b[38;5;241m.\u001b[39mtrain\u001b[38;5;241m.\u001b[39mCheckpoint(model\u001b[38;5;241m=\u001b[39mdetection_model)\n",
      "File \u001b[0;32m~/opt/anaconda3/envs/object-detection/lib/python3.8/site-packages/object_detection/builders/model_builder.py:121\u001b[0m, in \u001b[0;36mbuild\u001b[0;34m(model_config, is_training, add_summaries)\u001b[0m\n\u001b[1;32m    119\u001b[0m meta_architecture \u001b[39m=\u001b[39m model_config\u001b[39m.\u001b[39mWhichOneof(\u001b[39m'\u001b[39m\u001b[39mmodel\u001b[39m\u001b[39m'\u001b[39m)\n\u001b[1;32m    120\u001b[0m \u001b[39mif\u001b[39;00m meta_architecture \u001b[39m==\u001b[39m \u001b[39m'\u001b[39m\u001b[39mssd\u001b[39m\u001b[39m'\u001b[39m:\n\u001b[0;32m--> 121\u001b[0m   \u001b[39mreturn\u001b[39;00m _build_ssd_model(model_config\u001b[39m.\u001b[39;49mssd, is_training, add_summaries)\n\u001b[1;32m    122\u001b[0m \u001b[39mif\u001b[39;00m meta_architecture \u001b[39m==\u001b[39m \u001b[39m'\u001b[39m\u001b[39mfaster_rcnn\u001b[39m\u001b[39m'\u001b[39m:\n\u001b[1;32m    123\u001b[0m   \u001b[39mreturn\u001b[39;00m _build_faster_rcnn_model(model_config\u001b[39m.\u001b[39mfaster_rcnn, is_training,\n\u001b[1;32m    124\u001b[0m                                   add_summaries)\n",
      "File \u001b[0;32m~/opt/anaconda3/envs/object-detection/lib/python3.8/site-packages/object_detection/builders/model_builder.py:241\u001b[0m, in \u001b[0;36m_build_ssd_model\u001b[0;34m(ssd_config, is_training, add_summaries)\u001b[0m\n\u001b[1;32m    238\u001b[0m num_classes \u001b[39m=\u001b[39m ssd_config\u001b[39m.\u001b[39mnum_classes\n\u001b[1;32m    240\u001b[0m \u001b[39m# Feature extractor\u001b[39;00m\n\u001b[0;32m--> 241\u001b[0m feature_extractor \u001b[39m=\u001b[39m _build_ssd_feature_extractor(\n\u001b[1;32m    242\u001b[0m     feature_extractor_config\u001b[39m=\u001b[39;49mssd_config\u001b[39m.\u001b[39;49mfeature_extractor,\n\u001b[1;32m    243\u001b[0m     freeze_batchnorm\u001b[39m=\u001b[39;49mssd_config\u001b[39m.\u001b[39;49mfreeze_batchnorm,\n\u001b[1;32m    244\u001b[0m     is_training\u001b[39m=\u001b[39;49mis_training)\n\u001b[1;32m    246\u001b[0m box_coder \u001b[39m=\u001b[39m box_coder_builder\u001b[39m.\u001b[39mbuild(ssd_config\u001b[39m.\u001b[39mbox_coder)\n\u001b[1;32m    247\u001b[0m matcher \u001b[39m=\u001b[39m matcher_builder\u001b[39m.\u001b[39mbuild(ssd_config\u001b[39m.\u001b[39mmatcher)\n",
      "File \u001b[0;32m~/opt/anaconda3/envs/object-detection/lib/python3.8/site-packages/object_detection/builders/model_builder.py:168\u001b[0m, in \u001b[0;36m_build_ssd_feature_extractor\u001b[0;34m(feature_extractor_config, is_training, freeze_batchnorm, reuse_weights)\u001b[0m\n\u001b[1;32m    163\u001b[0m override_base_feature_extractor_hyperparams \u001b[39m=\u001b[39m (\n\u001b[1;32m    164\u001b[0m     feature_extractor_config\u001b[39m.\u001b[39moverride_base_feature_extractor_hyperparams)\n\u001b[1;32m    166\u001b[0m \u001b[39mif\u001b[39;00m (feature_type \u001b[39mnot\u001b[39;00m \u001b[39min\u001b[39;00m SSD_FEATURE_EXTRACTOR_CLASS_MAP) \u001b[39mand\u001b[39;00m (\n\u001b[1;32m    167\u001b[0m     \u001b[39mnot\u001b[39;00m is_keras_extractor):\n\u001b[0;32m--> 168\u001b[0m   \u001b[39mraise\u001b[39;00m \u001b[39mValueError\u001b[39;00m(\u001b[39m'\u001b[39m\u001b[39mUnknown ssd feature_extractor: \u001b[39m\u001b[39m{}\u001b[39;00m\u001b[39m'\u001b[39m\u001b[39m.\u001b[39mformat(feature_type))\n\u001b[1;32m    170\u001b[0m \u001b[39mif\u001b[39;00m is_keras_extractor:\n\u001b[1;32m    171\u001b[0m   feature_extractor_class \u001b[39m=\u001b[39m SSD_KERAS_FEATURE_EXTRACTOR_CLASS_MAP[\n\u001b[1;32m    172\u001b[0m       feature_type]\n",
      "\u001b[0;31mValueError\u001b[0m: Unknown ssd feature_extractor: ssd_mobilenet_v2_fpn_keras"
     ]
    }
   ],
   "source": [
    "custom_model_name = 'ssd_mobilenet_v2_fpnlite_320x320_coco17_tpu-8'\n",
    "PATH_TO_MODEL_DIR = os.path.join('.','workplace', 'training_demo', 'models', custom_model_name)\n",
    "\n",
    "PATH_TO_CFG = PATH_TO_MODEL_DIR + \"/{}.config\".format(custom_model_name)\n",
    "PATH_TO_CKPT = PATH_TO_MODEL_DIR + \"/checkpoint\"\n",
    "\n",
    "print('Loading model... ', end='')\n",
    "start_time = time.time()\n",
    "\n",
    "# Load pipeline config and build a detection model\n",
    "# configs = config_util.get_configs_from_pipeline_file(PATH_TO_CFG)\n",
    "configs = config_util.get_configs_from_pipeline_file('/Users/michaelwork/Desktop/Project/Face_Mask_Detection/face_mask_detection/workspace/training_demo/models/ssd_mobilenet_v2_fpnlite_320x320_coco17_tpu-8/ssd_mobilenet_v2_fpnlite_320x320_coco17_tpu-8.config')\n",
    "model_config = configs['model']\n",
    "detection_model = model_builder.build(model_config=model_config, is_training=False)\n",
    "\n",
    "# Restore checkpoint\n",
    "ckpt = tf.compat.v2.train.Checkpoint(model=detection_model)\n",
    "ckpt.restore(os.path.join(PATH_TO_CKPT, 'ckpt-6')).expect_partial()\n",
    "\n",
    "@tf.function\n",
    "def detect_fn(image):\n",
    "    \"\"\"Detect objects in image.\"\"\"\n",
    "\n",
    "    image, shapes = detection_model.preprocess(image)\n",
    "    prediction_dict = detection_model.predict(image, shapes)\n",
    "    detections = detection_model.postprocess(prediction_dict, shapes)\n",
    "\n",
    "    return detections"
   ]
  },
  {
   "attachments": {},
   "cell_type": "markdown",
   "metadata": {},
   "source": [
    "# Real Time Detection"
   ]
  },
  {
   "cell_type": "code",
   "execution_count": null,
   "metadata": {},
   "outputs": [],
   "source": [
    "cap = cv2.VideoCapture(0)\n",
    "width = int(cap.get(cv2.CAP_PROP_FRAME_WIDTH))\n",
    "height = int(cap.get(cv2.CAP_PROP_FRAME_HEIGHT))\n",
    "\n",
    "while cap.isOpened(): \n",
    "    ret, frame = cap.read()\n",
    "    image_np = np.array(frame)\n",
    "    \n",
    "    input_tensor = tf.convert_to_tensor(np.expand_dims(image_np, 0), dtype=tf.float32)\n",
    "    detections = detect_fn(input_tensor)\n",
    "    \n",
    "    num_detections = int(detections.pop('num_detections'))\n",
    "    detections = {key: value[0, :num_detections].numpy()\n",
    "                  for key, value in detections.items()}\n",
    "    detections['num_detections'] = num_detections\n",
    "\n",
    "    # detection_classes should be ints.\n",
    "    detections['detection_classes'] = detections['detection_classes'].astype(np.int64)\n",
    "\n",
    "    label_id_offset = 1\n",
    "    image_np_with_detections = image_np.copy()\n",
    "\n",
    "    viz_utils.visualize_boxes_and_labels_on_image_array(\n",
    "                image_np_with_detections,\n",
    "                detections['detection_boxes'],\n",
    "                detections['detection_classes']+label_id_offset,\n",
    "                detections['detection_scores'],\n",
    "                category_index,\n",
    "                use_normalized_coordinates=True,\n",
    "                max_boxes_to_draw=5,\n",
    "                min_score_thresh=.8,\n",
    "                agnostic_mode=False)\n",
    "\n",
    "    cv2.imshow('object detection',  cv2.resize(image_np_with_detections, (800, 600)))\n",
    "    \n",
    "    if cv2.waitKey(10) & 0xFF == ord('q'):\n",
    "        cap.release()\n",
    "        cv2.destroyAllWindows()\n",
    "        break"
   ]
  }
 ],
 "metadata": {
  "kernelspec": {
   "display_name": "Python 3.8.0 ('object-detection')",
   "language": "python",
   "name": "python3"
  },
  "language_info": {
   "codemirror_mode": {
    "name": "ipython",
    "version": 3
   },
   "file_extension": ".py",
   "mimetype": "text/x-python",
   "name": "python",
   "nbconvert_exporter": "python",
   "pygments_lexer": "ipython3",
   "version": "3.8.0"
  },
  "orig_nbformat": 4,
  "vscode": {
   "interpreter": {
    "hash": "f48fe77c96d25382708f938305ef6b67b7a52141330303ce68a49492b0f4af52"
   }
  }
 },
 "nbformat": 4,
 "nbformat_minor": 2
}
